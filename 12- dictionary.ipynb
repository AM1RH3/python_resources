{
 "cells": [
  {
   "cell_type": "markdown",
   "id": "f34db754",
   "metadata": {},
   "source": [
    "# creating a dictionary"
   ]
  },
  {
   "cell_type": "code",
   "execution_count": 2,
   "id": "5dd8062e",
   "metadata": {},
   "outputs": [
    {
     "name": "stdout",
     "output_type": "stream",
     "text": [
      "{'brand': 'bmw', 'model': 'x5', 'year': 2017}\n"
     ]
    }
   ],
   "source": [
    "newcars = {\n",
    "    \"brand\":\"bmw\",\n",
    "    \"model\" : \"x5\",\n",
    "    \"year\": 2017\n",
    "}\n",
    "\n",
    "print(newcars)"
   ]
  },
  {
   "cell_type": "code",
   "execution_count": 3,
   "id": "2f7b495c",
   "metadata": {},
   "outputs": [
    {
     "data": {
      "text/plain": [
       "dict"
      ]
     },
     "execution_count": 3,
     "metadata": {},
     "output_type": "execute_result"
    }
   ],
   "source": [
    "type(newcars)"
   ]
  },
  {
   "cell_type": "code",
   "execution_count": 4,
   "id": "bac4105c",
   "metadata": {},
   "outputs": [
    {
     "data": {
      "text/plain": [
       "3"
      ]
     },
     "execution_count": 4,
     "metadata": {},
     "output_type": "execute_result"
    }
   ],
   "source": [
    "len(newcars)"
   ]
  },
  {
   "cell_type": "code",
   "execution_count": 6,
   "id": "c47d83c3",
   "metadata": {},
   "outputs": [
    {
     "name": "stdout",
     "output_type": "stream",
     "text": [
      "bmw\n"
     ]
    }
   ],
   "source": [
    "print(newcars[\"brand\"])"
   ]
  },
  {
   "cell_type": "code",
   "execution_count": 8,
   "id": "ea24084d",
   "metadata": {},
   "outputs": [
    {
     "name": "stdout",
     "output_type": "stream",
     "text": [
      "bmw\n"
     ]
    }
   ],
   "source": [
    "x = newcars.get(\"brand\")\n",
    "print(x)"
   ]
  },
  {
   "cell_type": "code",
   "execution_count": 10,
   "id": "a46dab6d",
   "metadata": {},
   "outputs": [
    {
     "name": "stdout",
     "output_type": "stream",
     "text": [
      "dict_keys(['brand', 'model', 'year'])\n"
     ]
    }
   ],
   "source": [
    "x = newcars.keys()\n",
    "print(x)"
   ]
  },
  {
   "cell_type": "code",
   "execution_count": 11,
   "id": "d0ff584a",
   "metadata": {},
   "outputs": [
    {
     "name": "stdout",
     "output_type": "stream",
     "text": [
      "{'brand': 'bmw', 'model': 'x5', 'year': 2017, 'color': 'black'}\n"
     ]
    }
   ],
   "source": [
    "#adding items to a dictionary\n",
    "newcars[\"color\"] = \"black\"\n",
    "print(newcars)"
   ]
  },
  {
   "cell_type": "code",
   "execution_count": 12,
   "id": "d026246a",
   "metadata": {},
   "outputs": [
    {
     "name": "stdout",
     "output_type": "stream",
     "text": [
      "dict_values(['bmw', 'x5', 2017, 'black'])\n"
     ]
    }
   ],
   "source": [
    "#print all the valules at once\n",
    "x = newcars.values()\n",
    "print(x)"
   ]
  },
  {
   "cell_type": "code",
   "execution_count": 14,
   "id": "45fff715",
   "metadata": {},
   "outputs": [
    {
     "name": "stdout",
     "output_type": "stream",
     "text": [
      "{'brand': 'bmw', 'model': 'x5', 'year': 2020, 'color': 'black'}\n"
     ]
    }
   ],
   "source": [
    "#changing value\n",
    "newcars[\"year\"] = 2020\n",
    "print(newcars)"
   ]
  },
  {
   "cell_type": "code",
   "execution_count": 16,
   "id": "b61465cc",
   "metadata": {},
   "outputs": [
    {
     "name": "stdout",
     "output_type": "stream",
     "text": [
      "dict_items([('brand', 'bmw'), ('model', 'x5'), ('year', 2020), ('color', 'black')])\n"
     ]
    }
   ],
   "source": [
    "#items in dictionary as tuple in a list\n",
    "x = newcars.items()\n",
    "print(x)"
   ]
  },
  {
   "cell_type": "code",
   "execution_count": 18,
   "id": "b9b72018",
   "metadata": {},
   "outputs": [
    {
     "name": "stdout",
     "output_type": "stream",
     "text": [
      "Yes, color is in new cars\n"
     ]
    }
   ],
   "source": [
    "if \"color\" in newcars:\n",
    "    print(\"Yes, color is in new cars\")"
   ]
  },
  {
   "cell_type": "code",
   "execution_count": 20,
   "id": "00ed35dd",
   "metadata": {},
   "outputs": [
    {
     "name": "stdout",
     "output_type": "stream",
     "text": [
      "{'brand': 'bmw', 'model': 'x5', 'year': 2020, 'color': 'white'}\n"
     ]
    }
   ],
   "source": [
    "newcars.update({\"color\":\"white\"})\n",
    "print(newcars)"
   ]
  },
  {
   "cell_type": "code",
   "execution_count": 21,
   "id": "0675b7a2",
   "metadata": {},
   "outputs": [
    {
     "name": "stdout",
     "output_type": "stream",
     "text": [
      "{'brand': 'bmw', 'model': 'x5', 'color': 'white'}\n"
     ]
    }
   ],
   "source": [
    "#removing item\n",
    "newcars.pop(\"year\")\n",
    "print(newcars)"
   ]
  },
  {
   "cell_type": "code",
   "execution_count": 22,
   "id": "4c72889b",
   "metadata": {},
   "outputs": [
    {
     "name": "stdout",
     "output_type": "stream",
     "text": [
      "{'brand': 'bmw', 'model': 'x5'}\n"
     ]
    }
   ],
   "source": [
    "#removes last inserted item \n",
    "newcars.popitem()\n",
    "print(newcars)"
   ]
  },
  {
   "cell_type": "code",
   "execution_count": 23,
   "id": "88ff4e96",
   "metadata": {},
   "outputs": [
    {
     "name": "stdout",
     "output_type": "stream",
     "text": [
      "{'model': 'x5'}\n"
     ]
    }
   ],
   "source": [
    "del newcars[\"brand\"]\n",
    "print(newcars)"
   ]
  },
  {
   "cell_type": "code",
   "execution_count": 24,
   "id": "10aaed88",
   "metadata": {},
   "outputs": [],
   "source": [
    "#empty\n",
    "newcars.clear()\n"
   ]
  },
  {
   "cell_type": "code",
   "execution_count": 25,
   "id": "666a9e7e",
   "metadata": {},
   "outputs": [
    {
     "name": "stdout",
     "output_type": "stream",
     "text": [
      "{}\n"
     ]
    }
   ],
   "source": [
    "print(newcars)"
   ]
  },
  {
   "cell_type": "code",
   "execution_count": 26,
   "id": "bba47e54",
   "metadata": {},
   "outputs": [],
   "source": [
    "del newcars"
   ]
  },
  {
   "cell_type": "code",
   "execution_count": 27,
   "id": "3a440cc2",
   "metadata": {},
   "outputs": [
    {
     "ename": "NameError",
     "evalue": "name 'newcars' is not defined",
     "output_type": "error",
     "traceback": [
      "\u001b[0;31m---------------------------------------------------------------------------\u001b[0m",
      "\u001b[0;31mNameError\u001b[0m                                 Traceback (most recent call last)",
      "\u001b[0;32m/var/folders/6t/xy3pcrwn7r50cmfvm_58m4xm0000gn/T/ipykernel_3576/507305471.py\u001b[0m in \u001b[0;36m<module>\u001b[0;34m\u001b[0m\n\u001b[0;32m----> 1\u001b[0;31m \u001b[0mprint\u001b[0m\u001b[0;34m(\u001b[0m\u001b[0mnewcars\u001b[0m\u001b[0;34m)\u001b[0m\u001b[0;34m\u001b[0m\u001b[0;34m\u001b[0m\u001b[0m\n\u001b[0m",
      "\u001b[0;31mNameError\u001b[0m: name 'newcars' is not defined"
     ]
    }
   ],
   "source": [
    "print(newcars)"
   ]
  },
  {
   "cell_type": "code",
   "execution_count": null,
   "id": "792bd0f0",
   "metadata": {},
   "outputs": [],
   "source": []
  }
 ],
 "metadata": {
  "kernelspec": {
   "display_name": "Python 3 (ipykernel)",
   "language": "python",
   "name": "python3"
  },
  "language_info": {
   "codemirror_mode": {
    "name": "ipython",
    "version": 3
   },
   "file_extension": ".py",
   "mimetype": "text/x-python",
   "name": "python",
   "nbconvert_exporter": "python",
   "pygments_lexer": "ipython3",
   "version": "3.9.13"
  }
 },
 "nbformat": 4,
 "nbformat_minor": 5
}
