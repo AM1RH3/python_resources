{
 "cells": [
  {
   "cell_type": "markdown",
   "id": "46fac2ee",
   "metadata": {},
   "source": [
    "# The conditional if statement"
   ]
  },
  {
   "cell_type": "code",
   "execution_count": 1,
   "id": "4b3c1086",
   "metadata": {},
   "outputs": [
    {
     "name": "stdout",
     "output_type": "stream",
     "text": [
      "10 is positive\n",
      "====================\n",
      "====================\n"
     ]
    }
   ],
   "source": [
    "number = 10\n",
    "\n",
    "if number > 0:\n",
    "    print(number, \"is positive\")\n",
    "    \n",
    "print(\"====================\")\n",
    "\n",
    "if number < 0:\n",
    "    print(number, \"is negative\")\n",
    "print(\"====================\")\n"
   ]
  },
  {
   "cell_type": "markdown",
   "id": "6c97a880",
   "metadata": {},
   "source": [
    "# conditional if ... else"
   ]
  },
  {
   "cell_type": "code",
   "execution_count": 2,
   "id": "bd317e7c",
   "metadata": {},
   "outputs": [
    {
     "name": "stdout",
     "output_type": "stream",
     "text": [
      "10 is positive\n",
      "====================\n",
      "10 is positive or zero\n",
      "====================\n"
     ]
    }
   ],
   "source": [
    "number =10\n",
    "\n",
    "if number > 0:\n",
    "    print(number, \"is positive\")\n",
    "else:\n",
    "    print(number, \"is negative or zero\")\n",
    "\n",
    "    \n",
    "print(\"====================\")\n",
    "\n",
    "if number < 0:\n",
    "    print(number, \"is negative\")\n",
    "else:\n",
    "    print(number, \"is positive or zero\")\n",
    "    \n",
    "print(\"====================\")\n"
   ]
  },
  {
   "cell_type": "markdown",
   "id": "956631f8",
   "metadata": {},
   "source": [
    "# conditional if-elif-else"
   ]
  },
  {
   "cell_type": "code",
   "execution_count": 3,
   "id": "4403ec0f",
   "metadata": {},
   "outputs": [
    {
     "name": "stdout",
     "output_type": "stream",
     "text": [
      "0 is zero\n"
     ]
    }
   ],
   "source": [
    "number = 0\n",
    "\n",
    "if number > 0:\n",
    "    print(number, \"is positive\")\n",
    "elif number == 0:\n",
    "    print(number, \"is zero\")\n",
    "else:\n",
    "    print(number, \"is negative\")\n"
   ]
  },
  {
   "cell_type": "markdown",
   "id": "a5def637",
   "metadata": {},
   "source": [
    "# Nested if"
   ]
  },
  {
   "cell_type": "code",
   "execution_count": 5,
   "id": "9dd6d12c",
   "metadata": {},
   "outputs": [
    {
     "name": "stdout",
     "output_type": "stream",
     "text": [
      "Put your number here-2\n",
      "number is negative\n"
     ]
    }
   ],
   "source": [
    "number = float(input(\"Put your number here\"))\n",
    "\n",
    "if number >= 0 :\n",
    "    if number == 0:\n",
    "        print(\"number is Zero\")\n",
    "    else:\n",
    "        print(\"number is positive\")\n",
    "else:\n",
    "    print(\"number is negative\")"
   ]
  },
  {
   "cell_type": "code",
   "execution_count": null,
   "id": "1f5ea2e7",
   "metadata": {},
   "outputs": [],
   "source": []
  }
 ],
 "metadata": {
  "kernelspec": {
   "display_name": "Python 3 (ipykernel)",
   "language": "python",
   "name": "python3"
  },
  "language_info": {
   "codemirror_mode": {
    "name": "ipython",
    "version": 3
   },
   "file_extension": ".py",
   "mimetype": "text/x-python",
   "name": "python",
   "nbconvert_exporter": "python",
   "pygments_lexer": "ipython3",
   "version": "3.9.13"
  }
 },
 "nbformat": 4,
 "nbformat_minor": 5
}
