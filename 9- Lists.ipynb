{
 "cells": [
  {
   "cell_type": "code",
   "execution_count": 1,
   "id": "1be937e6",
   "metadata": {},
   "outputs": [
    {
     "name": "stdout",
     "output_type": "stream",
     "text": [
      "['fig', 'apple', 'banana', 'fig', 'apple']\n"
     ]
    }
   ],
   "source": [
    "#Creating a list\n",
    "myfruit = [\"fig\", \"apple\", \"banana\", \"fig\", \"apple\"]\n",
    "print(myfruit)"
   ]
  },
  {
   "cell_type": "code",
   "execution_count": 2,
   "id": "927dfed8",
   "metadata": {},
   "outputs": [
    {
     "name": "stdout",
     "output_type": "stream",
     "text": [
      "5\n"
     ]
    }
   ],
   "source": [
    "#number of items\n",
    "print(len(myfruit))"
   ]
  },
  {
   "cell_type": "code",
   "execution_count": 3,
   "id": "2976e054",
   "metadata": {},
   "outputs": [
    {
     "name": "stdout",
     "output_type": "stream",
     "text": [
      "[1, 2, 3, 4, 5]\n",
      "[True, False, False]\n"
     ]
    }
   ],
   "source": [
    "mynumbers = [1, 2, 3, 4, 5]\n",
    "myboolean = [True, False, False]\n",
    "print(mynumbers)\n",
    "print(myboolean)"
   ]
  },
  {
   "cell_type": "code",
   "execution_count": 5,
   "id": "8d4df712",
   "metadata": {},
   "outputs": [
    {
     "name": "stdout",
     "output_type": "stream",
     "text": [
      "[2, 'abc', 3.5, True, 'Hi']\n"
     ]
    }
   ],
   "source": [
    "mixed_list = [2, \"abc\", 3.5, True, \"Hi\"]\n",
    "print(mixed_list)"
   ]
  },
  {
   "cell_type": "code",
   "execution_count": 6,
   "id": "6d1e2198",
   "metadata": {},
   "outputs": [
    {
     "name": "stdout",
     "output_type": "stream",
     "text": [
      "<class 'list'>\n"
     ]
    }
   ],
   "source": [
    "print(type(mixed_list))"
   ]
  },
  {
   "cell_type": "code",
   "execution_count": 7,
   "id": "e0efe80b",
   "metadata": {},
   "outputs": [
    {
     "data": {
      "text/plain": [
       "list"
      ]
     },
     "execution_count": 7,
     "metadata": {},
     "output_type": "execute_result"
    }
   ],
   "source": [
    "type(mixed_list)"
   ]
  },
  {
   "cell_type": "code",
   "execution_count": 2,
   "id": "f940fa6c",
   "metadata": {},
   "outputs": [
    {
     "data": {
      "text/plain": [
       "(1, 2, 3, 4)"
      ]
     },
     "execution_count": 2,
     "metadata": {},
     "output_type": "execute_result"
    }
   ],
   "source": [
    "fruits_list = list((\"banana\", \"cherry\", \"lemon\"))\n",
    "fruit_tuple = tuple((1,2,3,4))\n",
    "fruit_tuple"
   ]
  },
  {
   "cell_type": "code",
   "execution_count": 10,
   "id": "f8e71ee2",
   "metadata": {},
   "outputs": [
    {
     "data": {
      "text/plain": [
       "list"
      ]
     },
     "execution_count": 10,
     "metadata": {},
     "output_type": "execute_result"
    }
   ],
   "source": [
    "type(fruits_list)"
   ]
  },
  {
   "cell_type": "code",
   "execution_count": 12,
   "id": "3c6fa373",
   "metadata": {},
   "outputs": [
    {
     "name": "stdout",
     "output_type": "stream",
     "text": [
      "banana\n",
      "cherry\n"
     ]
    }
   ],
   "source": [
    "print(fruits_list[0])\n",
    "print(fruits_list[1])"
   ]
  },
  {
   "cell_type": "code",
   "execution_count": 13,
   "id": "ef47ea4a",
   "metadata": {},
   "outputs": [
    {
     "name": "stdout",
     "output_type": "stream",
     "text": [
      "lemon\n"
     ]
    }
   ],
   "source": [
    "print(fruits_list[-1])"
   ]
  },
  {
   "cell_type": "code",
   "execution_count": 14,
   "id": "5ced5f24",
   "metadata": {},
   "outputs": [
    {
     "name": "stdout",
     "output_type": "stream",
     "text": [
      "['banana', 'cherry']\n"
     ]
    }
   ],
   "source": [
    "print(fruits_list[0:2])"
   ]
  },
  {
   "cell_type": "code",
   "execution_count": 15,
   "id": "824cb269",
   "metadata": {},
   "outputs": [
    {
     "name": "stdout",
     "output_type": "stream",
     "text": [
      "['cherry', 'lemon']\n"
     ]
    }
   ],
   "source": [
    "print(fruits_list[1:])"
   ]
  },
  {
   "cell_type": "code",
   "execution_count": 16,
   "id": "b7bde0b4",
   "metadata": {},
   "outputs": [
    {
     "name": "stdout",
     "output_type": "stream",
     "text": [
      "banana is in the list!\n"
     ]
    }
   ],
   "source": [
    "if \"banana\" in fruits_list:\n",
    "    print(\"banana is in the list!\")"
   ]
  },
  {
   "cell_type": "code",
   "execution_count": 17,
   "id": "d45a359a",
   "metadata": {},
   "outputs": [
    {
     "name": "stdout",
     "output_type": "stream",
     "text": [
      "not in the list!\n"
     ]
    }
   ],
   "source": [
    "if \"fig\" in fruits_list:\n",
    "    print(\"fig is in the list!\")\n",
    "else:\n",
    "    print(\"not in the list!\")\n"
   ]
  },
  {
   "cell_type": "code",
   "execution_count": 19,
   "id": "b87a3d18",
   "metadata": {},
   "outputs": [
    {
     "name": "stdout",
     "output_type": "stream",
     "text": [
      "['banana', 'Apple', 'lemon']\n"
     ]
    }
   ],
   "source": [
    "fruits_list[1] = \"Apple\"\n",
    "print(fruits_list)"
   ]
  },
  {
   "cell_type": "code",
   "execution_count": 20,
   "id": "ebd3a5b1",
   "metadata": {},
   "outputs": [
    {
     "name": "stdout",
     "output_type": "stream",
     "text": [
      "[['fig', 'watermelon'], 'Apple', 'lemon']\n"
     ]
    }
   ],
   "source": [
    "fruits_list[0] = [\"fig\", 'watermelon']\n",
    "print(fruits_list)"
   ]
  },
  {
   "cell_type": "code",
   "execution_count": 21,
   "id": "c012dbbc",
   "metadata": {},
   "outputs": [],
   "source": [
    "#insert to specific place\n",
    "fruits_list.insert(1,\"banana\")"
   ]
  },
  {
   "cell_type": "code",
   "execution_count": 22,
   "id": "ce67082b",
   "metadata": {},
   "outputs": [
    {
     "data": {
      "text/plain": [
       "[['fig', 'watermelon'], 'banana', 'Apple', 'lemon']"
      ]
     },
     "execution_count": 22,
     "metadata": {},
     "output_type": "execute_result"
    }
   ],
   "source": [
    "fruits_list"
   ]
  },
  {
   "cell_type": "code",
   "execution_count": 23,
   "id": "b7831e41",
   "metadata": {},
   "outputs": [
    {
     "name": "stdout",
     "output_type": "stream",
     "text": [
      "['fig', 'apple', 'watermelon', 'orange']\n"
     ]
    }
   ],
   "source": [
    "#append: adds to the end of the list\n",
    "fruits = [\"fig\", \"apple\", \"watermelon\"]\n",
    "fruits.append(\"orange\")\n",
    "print(fruits)"
   ]
  },
  {
   "cell_type": "code",
   "execution_count": 24,
   "id": "14f695c0",
   "metadata": {},
   "outputs": [
    {
     "name": "stdout",
     "output_type": "stream",
     "text": [
      "['fig', 'apple', 'watermelon', 'orange', 'lemon', 'cherry']\n"
     ]
    }
   ],
   "source": [
    "#add a list to the end of another list\n",
    "fruits2 = [\"lemon\", \"cherry\"]\n",
    "\n",
    "fruits.extend(fruits2)\n",
    "print(fruits)"
   ]
  },
  {
   "cell_type": "code",
   "execution_count": 25,
   "id": "6c8270a4",
   "metadata": {},
   "outputs": [
    {
     "name": "stdout",
     "output_type": "stream",
     "text": [
      "['fig', 'apple', 'orange', 'lemon', 'cherry']\n"
     ]
    }
   ],
   "source": [
    "#remove\n",
    "fruits.remove(\"watermelon\")\n",
    "print(fruits)"
   ]
  },
  {
   "cell_type": "code",
   "execution_count": 26,
   "id": "16aae370",
   "metadata": {},
   "outputs": [
    {
     "name": "stdout",
     "output_type": "stream",
     "text": [
      "['fig', 'orange', 'lemon', 'cherry']\n"
     ]
    }
   ],
   "source": [
    "#remove by index default is the last item\n",
    "fruits.pop(1)\n",
    "print(fruits)"
   ]
  },
  {
   "cell_type": "code",
   "execution_count": 27,
   "id": "a988cdc1",
   "metadata": {},
   "outputs": [
    {
     "data": {
      "text/plain": [
       "'cherry'"
      ]
     },
     "execution_count": 27,
     "metadata": {},
     "output_type": "execute_result"
    }
   ],
   "source": [
    "fruits.pop()"
   ]
  },
  {
   "cell_type": "code",
   "execution_count": 28,
   "id": "51fd1352",
   "metadata": {},
   "outputs": [
    {
     "name": "stdout",
     "output_type": "stream",
     "text": [
      "['fig', 'orange', 'lemon']\n"
     ]
    }
   ],
   "source": [
    "print(fruits)"
   ]
  },
  {
   "cell_type": "code",
   "execution_count": 29,
   "id": "a0ac1bb0",
   "metadata": {},
   "outputs": [
    {
     "name": "stdout",
     "output_type": "stream",
     "text": [
      "['orange', 'lemon']\n"
     ]
    }
   ],
   "source": [
    "del fruits[0]\n",
    "print(fruits)"
   ]
  },
  {
   "cell_type": "code",
   "execution_count": 30,
   "id": "117abcf1",
   "metadata": {},
   "outputs": [],
   "source": [
    "#del entire list\n",
    "del fruits"
   ]
  },
  {
   "cell_type": "code",
   "execution_count": 31,
   "id": "8d9c29ba",
   "metadata": {},
   "outputs": [
    {
     "ename": "NameError",
     "evalue": "name 'fruits' is not defined",
     "output_type": "error",
     "traceback": [
      "\u001b[0;31m---------------------------------------------------------------------------\u001b[0m",
      "\u001b[0;31mNameError\u001b[0m                                 Traceback (most recent call last)",
      "\u001b[0;32m/var/folders/6t/xy3pcrwn7r50cmfvm_58m4xm0000gn/T/ipykernel_3037/925828544.py\u001b[0m in \u001b[0;36m<module>\u001b[0;34m\u001b[0m\n\u001b[0;32m----> 1\u001b[0;31m \u001b[0mfruits\u001b[0m\u001b[0;34m\u001b[0m\u001b[0;34m\u001b[0m\u001b[0m\n\u001b[0m",
      "\u001b[0;31mNameError\u001b[0m: name 'fruits' is not defined"
     ]
    }
   ],
   "source": [
    "fruits"
   ]
  },
  {
   "cell_type": "code",
   "execution_count": 32,
   "id": "9f92fe8b",
   "metadata": {},
   "outputs": [],
   "source": [
    "#empty the list\n",
    "fruits = [\"fig\", \"apple\", \"watermelon\"]\n",
    "fruits.clear()"
   ]
  },
  {
   "cell_type": "code",
   "execution_count": 33,
   "id": "8d29188e",
   "metadata": {},
   "outputs": [
    {
     "data": {
      "text/plain": [
       "[]"
      ]
     },
     "execution_count": 33,
     "metadata": {},
     "output_type": "execute_result"
    }
   ],
   "source": [
    "fruits"
   ]
  },
  {
   "cell_type": "code",
   "execution_count": null,
   "id": "60e5acbb",
   "metadata": {},
   "outputs": [],
   "source": []
  }
 ],
 "metadata": {
  "kernelspec": {
   "display_name": "Python 3 (ipykernel)",
   "language": "python",
   "name": "python3"
  },
  "language_info": {
   "codemirror_mode": {
    "name": "ipython",
    "version": 3
   },
   "file_extension": ".py",
   "mimetype": "text/x-python",
   "name": "python",
   "nbconvert_exporter": "python",
   "pygments_lexer": "ipython3",
   "version": "3.9.13"
  }
 },
 "nbformat": 4,
 "nbformat_minor": 5
}
