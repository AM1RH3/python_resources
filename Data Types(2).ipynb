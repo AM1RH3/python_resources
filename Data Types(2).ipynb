{
 "cells": [
  {
   "cell_type": "markdown",
   "id": "2689e1c2",
   "metadata": {},
   "source": [
    "# Numbers in Python"
   ]
  },
  {
   "cell_type": "code",
   "execution_count": 1,
   "id": "7c782f7c",
   "metadata": {},
   "outputs": [],
   "source": [
    "x = 5\n",
    "y = 3.5\n",
    "z = 2 + 3j"
   ]
  },
  {
   "cell_type": "code",
   "execution_count": 3,
   "id": "5ed7bf68",
   "metadata": {},
   "outputs": [
    {
     "name": "stdout",
     "output_type": "stream",
     "text": [
      "5 is of type <class 'int'>\n",
      "3.5 is of type <class 'int'>\n",
      "(2+3j) is of type <class 'int'>\n"
     ]
    }
   ],
   "source": [
    "print(x, \"is of type\", type(x))\n",
    "print(y, \"is of type\", type(x))\n",
    "print(z, \"is of type\", type(x))"
   ]
  },
  {
   "cell_type": "markdown",
   "id": "0f00a901",
   "metadata": {},
   "source": [
    "# Lists in Python"
   ]
  },
  {
   "cell_type": "code",
   "execution_count": 4,
   "id": "48f71207",
   "metadata": {},
   "outputs": [
    {
     "name": "stdout",
     "output_type": "stream",
     "text": [
      "<class 'list'>\n"
     ]
    }
   ],
   "source": [
    "mix = [2,3.7, \"hi\"]\n",
    "print(type(mix))"
   ]
  },
  {
   "cell_type": "code",
   "execution_count": 16,
   "id": "a68801aa",
   "metadata": {},
   "outputs": [
    {
     "name": "stdout",
     "output_type": "stream",
     "text": [
      "First item 1\n",
      "Second item 2\n",
      "Third item 3\n"
     ]
    }
   ],
   "source": [
    "print(\"First item\", mix[0])\n",
    "print(\"Second item\", mix[1])\n",
    "print(\"Third item\", mix[2])"
   ]
  },
  {
   "cell_type": "code",
   "execution_count": 8,
   "id": "f2b4d4bf",
   "metadata": {},
   "outputs": [
    {
     "name": "stdout",
     "output_type": "stream",
     "text": [
      "[2, 3.7]\n",
      "[3.7, 'hi']\n"
     ]
    }
   ],
   "source": [
    "print(mix[0:2])\n",
    "print(mix[1:])"
   ]
  },
  {
   "cell_type": "code",
   "execution_count": 9,
   "id": "d0de87ad",
   "metadata": {},
   "outputs": [
    {
     "name": "stdout",
     "output_type": "stream",
     "text": [
      "[2, 5, 'hi']\n"
     ]
    }
   ],
   "source": [
    "#mutable\n",
    "mix[1] =  5\n",
    "print(mix)"
   ]
  },
  {
   "cell_type": "code",
   "execution_count": 10,
   "id": "2b6ff8ed",
   "metadata": {},
   "outputs": [],
   "source": [
    "mix = [1 , 2 , 3, \"python\"]"
   ]
  },
  {
   "cell_type": "code",
   "execution_count": 11,
   "id": "050769ec",
   "metadata": {},
   "outputs": [
    {
     "name": "stdout",
     "output_type": "stream",
     "text": [
      "[1, 2, 3, 'python']\n"
     ]
    }
   ],
   "source": [
    "print(mix)"
   ]
  },
  {
   "cell_type": "markdown",
   "id": "ee41f3f4",
   "metadata": {},
   "source": [
    "# Tuple in Python"
   ]
  },
  {
   "cell_type": "code",
   "execution_count": 12,
   "id": "d77a182b",
   "metadata": {},
   "outputs": [
    {
     "name": "stdout",
     "output_type": "stream",
     "text": [
      "(10, 'app', 3, (2+5j))\n"
     ]
    }
   ],
   "source": [
    "mix_t = (10, \"app\", 3 , 2+5j)\n",
    "print(mix_t)"
   ]
  },
  {
   "cell_type": "code",
   "execution_count": 15,
   "id": "b23d646f",
   "metadata": {},
   "outputs": [
    {
     "name": "stdout",
     "output_type": "stream",
     "text": [
      "First item 10\n",
      "Second item app\n",
      "Third item 3\n"
     ]
    }
   ],
   "source": [
    "print(\"First item\", mix_t[0])\n",
    "print(\"Second item\", mix_t[1])\n",
    "print(\"Third item\", mix_t[2])"
   ]
  },
  {
   "cell_type": "code",
   "execution_count": 19,
   "id": "f7db1566",
   "metadata": {},
   "outputs": [
    {
     "name": "stdout",
     "output_type": "stream",
     "text": [
      "(10, 'app')\n"
     ]
    }
   ],
   "source": [
    "print(mix_t[0:2])"
   ]
  },
  {
   "cell_type": "code",
   "execution_count": 20,
   "id": "df956e61",
   "metadata": {},
   "outputs": [
    {
     "name": "stdout",
     "output_type": "stream",
     "text": [
      "('app', 3, (2+5j))\n"
     ]
    }
   ],
   "source": [
    "print(mix_t[1:])"
   ]
  },
  {
   "cell_type": "markdown",
   "id": "a8286c94",
   "metadata": {},
   "source": [
    "# String in Python"
   ]
  },
  {
   "cell_type": "code",
   "execution_count": 21,
   "id": "f5b4223c",
   "metadata": {},
   "outputs": [
    {
     "name": "stdout",
     "output_type": "stream",
     "text": [
      "Single line string\n"
     ]
    }
   ],
   "source": [
    "str = \"Single line string\"\n",
    "print(str)"
   ]
  },
  {
   "cell_type": "code",
   "execution_count": 23,
   "id": "79b0d9d3",
   "metadata": {},
   "outputs": [
    {
     "name": "stdout",
     "output_type": "stream",
     "text": [
      "Multiple\n",
      "line\n",
      "string\n"
     ]
    }
   ],
   "source": [
    "str = '''Multiple\n",
    "line\n",
    "string'''\n",
    "print(str)"
   ]
  },
  {
   "cell_type": "code",
   "execution_count": 24,
   "id": "9ff3add0",
   "metadata": {},
   "outputs": [
    {
     "name": "stdout",
     "output_type": "stream",
     "text": [
      "First char: H\n",
      "Second char: i\n"
     ]
    }
   ],
   "source": [
    "new_str = \"Hi string\"\n",
    "print(\"First char:\", new_str[0])\n",
    "print(\"Second char:\", new_str[1])"
   ]
  },
  {
   "cell_type": "code",
   "execution_count": 27,
   "id": "4a939dae",
   "metadata": {},
   "outputs": [
    {
     "ename": "TypeError",
     "evalue": "'str' object does not support item assignment",
     "output_type": "error",
     "traceback": [
      "\u001b[0;31m---------------------------------------------------------------------------\u001b[0m",
      "\u001b[0;31mTypeError\u001b[0m                                 Traceback (most recent call last)",
      "\u001b[0;32m/var/folders/6t/xy3pcrwn7r50cmfvm_58m4xm0000gn/T/ipykernel_2032/931525035.py\u001b[0m in \u001b[0;36m<module>\u001b[0;34m\u001b[0m\n\u001b[1;32m      1\u001b[0m \u001b[0;31m#string is immutable\u001b[0m\u001b[0;34m\u001b[0m\u001b[0;34m\u001b[0m\u001b[0m\n\u001b[0;32m----> 2\u001b[0;31m \u001b[0mnew_str\u001b[0m\u001b[0;34m[\u001b[0m\u001b[0;36m0\u001b[0m\u001b[0;34m]\u001b[0m \u001b[0;34m=\u001b[0m \u001b[0;34m\"p\"\u001b[0m\u001b[0;34m\u001b[0m\u001b[0;34m\u001b[0m\u001b[0m\n\u001b[0m",
      "\u001b[0;31mTypeError\u001b[0m: 'str' object does not support item assignment"
     ]
    }
   ],
   "source": [
    "#string is immutable\n",
    "new_str[0] = \"p\""
   ]
  },
  {
   "cell_type": "markdown",
   "id": "79294ecc",
   "metadata": {},
   "source": [
    "# Sets in Python"
   ]
  },
  {
   "cell_type": "code",
   "execution_count": 28,
   "id": "87e7eed1",
   "metadata": {},
   "outputs": [
    {
     "name": "stdout",
     "output_type": "stream",
     "text": [
      "{10, 3, 20, 5}\n",
      "<class 'set'>\n"
     ]
    }
   ],
   "source": [
    "numbers_set = {5, 10, 3, 20}\n",
    "\n",
    "# set variables or items\n",
    "print(numbers_set)\n",
    "\n",
    "#type of numbers_set\n",
    "print(type(numbers_set))"
   ]
  },
  {
   "cell_type": "markdown",
   "id": "b8bbed56",
   "metadata": {},
   "source": [
    "# Dictionaries in Python"
   ]
  },
  {
   "cell_type": "code",
   "execution_count": 29,
   "id": "6c2f7b26",
   "metadata": {},
   "outputs": [],
   "source": [
    "new_d = {1:\"First value\", \"second key\" : 5}"
   ]
  },
  {
   "cell_type": "code",
   "execution_count": 30,
   "id": "78bad56a",
   "metadata": {},
   "outputs": [
    {
     "data": {
      "text/plain": [
       "dict"
      ]
     },
     "execution_count": 30,
     "metadata": {},
     "output_type": "execute_result"
    }
   ],
   "source": [
    "type(new_d)"
   ]
  },
  {
   "cell_type": "code",
   "execution_count": 31,
   "id": "365e15ad",
   "metadata": {},
   "outputs": [
    {
     "data": {
      "text/plain": [
       "'First value'"
      ]
     },
     "execution_count": 31,
     "metadata": {},
     "output_type": "execute_result"
    }
   ],
   "source": [
    "new_d[1]"
   ]
  },
  {
   "cell_type": "code",
   "execution_count": 32,
   "id": "bce65c57",
   "metadata": {},
   "outputs": [
    {
     "data": {
      "text/plain": [
       "5"
      ]
     },
     "execution_count": 32,
     "metadata": {},
     "output_type": "execute_result"
    }
   ],
   "source": [
    "new_d[\"second key\"]"
   ]
  },
  {
   "cell_type": "code",
   "execution_count": 33,
   "id": "3eb68172",
   "metadata": {},
   "outputs": [
    {
     "ename": "KeyError",
     "evalue": "2",
     "output_type": "error",
     "traceback": [
      "\u001b[0;31m---------------------------------------------------------------------------\u001b[0m",
      "\u001b[0;31mKeyError\u001b[0m                                  Traceback (most recent call last)",
      "\u001b[0;32m/var/folders/6t/xy3pcrwn7r50cmfvm_58m4xm0000gn/T/ipykernel_2032/2514105878.py\u001b[0m in \u001b[0;36m<module>\u001b[0;34m\u001b[0m\n\u001b[0;32m----> 1\u001b[0;31m \u001b[0mnew_d\u001b[0m\u001b[0;34m[\u001b[0m\u001b[0;36m2\u001b[0m\u001b[0;34m]\u001b[0m\u001b[0;34m\u001b[0m\u001b[0;34m\u001b[0m\u001b[0m\n\u001b[0m",
      "\u001b[0;31mKeyError\u001b[0m: 2"
     ]
    }
   ],
   "source": [
    "new_d[2]"
   ]
  },
  {
   "cell_type": "code",
   "execution_count": null,
   "id": "282ff436",
   "metadata": {},
   "outputs": [],
   "source": []
  }
 ],
 "metadata": {
  "kernelspec": {
   "display_name": "Python 3 (ipykernel)",
   "language": "python",
   "name": "python3"
  },
  "language_info": {
   "codemirror_mode": {
    "name": "ipython",
    "version": 3
   },
   "file_extension": ".py",
   "mimetype": "text/x-python",
   "name": "python",
   "nbconvert_exporter": "python",
   "pygments_lexer": "ipython3",
   "version": "3.9.13"
  }
 },
 "nbformat": 4,
 "nbformat_minor": 5
}
