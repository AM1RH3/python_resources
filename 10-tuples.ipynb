{
 "cells": [
  {
   "cell_type": "markdown",
   "id": "035799bd",
   "metadata": {},
   "source": [
    "# Creating a Tuple"
   ]
  },
  {
   "cell_type": "code",
   "execution_count": 1,
   "id": "82095705",
   "metadata": {},
   "outputs": [
    {
     "name": "stdout",
     "output_type": "stream",
     "text": [
      "('fig', 'banana', 'lemon')\n"
     ]
    }
   ],
   "source": [
    "newfruits = (\"fig\", \"banana\", \"lemon\")\n",
    "print(newfruits)"
   ]
  },
  {
   "cell_type": "code",
   "execution_count": 2,
   "id": "634f0c77",
   "metadata": {},
   "outputs": [
    {
     "name": "stdout",
     "output_type": "stream",
     "text": [
      "('fig', 'banana', 'lemon', 'banana')\n"
     ]
    }
   ],
   "source": [
    "newfruits = (\"fig\", \"banana\", \"lemon\", \"banana\")\n",
    "print(newfruits)"
   ]
  },
  {
   "cell_type": "code",
   "execution_count": 3,
   "id": "260ca29f",
   "metadata": {},
   "outputs": [
    {
     "name": "stdout",
     "output_type": "stream",
     "text": [
      "4\n"
     ]
    }
   ],
   "source": [
    "print(len(newfruits))"
   ]
  },
  {
   "cell_type": "code",
   "execution_count": 4,
   "id": "d2c386ad",
   "metadata": {},
   "outputs": [
    {
     "name": "stdout",
     "output_type": "stream",
     "text": [
      "<class 'str'>\n",
      "<class 'tuple'>\n"
     ]
    }
   ],
   "source": [
    "newfruit1 = (\"banana\")\n",
    "newfruit2 = (\"banana\",)\n",
    "print(type(newfruit1))\n",
    "print(type(newfruit2))"
   ]
  },
  {
   "cell_type": "code",
   "execution_count": 5,
   "id": "2857d692",
   "metadata": {},
   "outputs": [
    {
     "name": "stdout",
     "output_type": "stream",
     "text": [
      "('banana', 'cherry', 'apple')\n",
      "(1, 2, 3)\n",
      "(True, False, True)\n"
     ]
    }
   ],
   "source": [
    "fruits_t = (\"banana\", \"cherry\", \"apple\")\n",
    "numbers_t = (1 , 2, 3)\n",
    "boolean_t = (True, False, True)\n",
    "\n",
    "print(fruits_t)\n",
    "print(numbers_t)\n",
    "print(boolean_t)"
   ]
  },
  {
   "cell_type": "code",
   "execution_count": 6,
   "id": "df6bf0ff",
   "metadata": {},
   "outputs": [
    {
     "name": "stdout",
     "output_type": "stream",
     "text": [
      "('hi', True, 4)\n"
     ]
    }
   ],
   "source": [
    "mix_t = (\"hi\", True, 4)\n",
    "print(mix_t)"
   ]
  },
  {
   "cell_type": "code",
   "execution_count": 8,
   "id": "117f65a0",
   "metadata": {},
   "outputs": [
    {
     "name": "stdout",
     "output_type": "stream",
     "text": [
      "('banana', 'appale', 'fig')\n"
     ]
    }
   ],
   "source": [
    "#another way of creating a tupe\n",
    "new_f = tuple((\"banana\", \"appale\", \"fig\"))\n",
    "print(new_f)"
   ]
  },
  {
   "cell_type": "code",
   "execution_count": 10,
   "id": "f3242cdf",
   "metadata": {},
   "outputs": [
    {
     "name": "stdout",
     "output_type": "stream",
     "text": [
      "banana\n",
      "appale\n"
     ]
    }
   ],
   "source": [
    "print(new_f[0])\n",
    "print(new_f[1])"
   ]
  },
  {
   "cell_type": "code",
   "execution_count": 11,
   "id": "4650fc4b",
   "metadata": {},
   "outputs": [
    {
     "name": "stdout",
     "output_type": "stream",
     "text": [
      "fig\n",
      "appale\n"
     ]
    }
   ],
   "source": [
    "print(new_f[-1])\n",
    "print(new_f[-2])"
   ]
  },
  {
   "cell_type": "code",
   "execution_count": 12,
   "id": "b80d54a5",
   "metadata": {},
   "outputs": [
    {
     "name": "stdout",
     "output_type": "stream",
     "text": [
      "('appale', 'fig')\n"
     ]
    }
   ],
   "source": [
    "print(new_f[1:])"
   ]
  },
  {
   "cell_type": "code",
   "execution_count": 13,
   "id": "ef70b73f",
   "metadata": {},
   "outputs": [
    {
     "name": "stdout",
     "output_type": "stream",
     "text": [
      "Yes, banana is in fruits\n"
     ]
    }
   ],
   "source": [
    "fruits = (\"apple\", \"banana\", \"fig\", \"cherry\")\n",
    "if \"banana\" in fruits:\n",
    "    print(\"Yes, banana is in fruits\")"
   ]
  },
  {
   "cell_type": "code",
   "execution_count": 14,
   "id": "003d1369",
   "metadata": {},
   "outputs": [
    {
     "name": "stdout",
     "output_type": "stream",
     "text": [
      "('apple', 'watermelon', 'fig', 'cherry')\n"
     ]
    }
   ],
   "source": [
    "#change and updating items\n",
    "#convert to list then revert to tuple\n",
    "fruits_1 = list(fruits)\n",
    "fruits_1[1]=\"watermelon\"\n",
    "fruits = tuple(fruits_1)\n",
    "print(fruits)"
   ]
  },
  {
   "cell_type": "code",
   "execution_count": 1,
   "id": "09344a6f",
   "metadata": {},
   "outputs": [],
   "source": [
    "t = (1,2,3,7,9,0,5)"
   ]
  },
  {
   "cell_type": "code",
   "execution_count": 2,
   "id": "bdd0bfb8",
   "metadata": {},
   "outputs": [
    {
     "name": "stdout",
     "output_type": "stream",
     "text": [
      "(1, 2, 3, 7, 9, 0, 5)\n"
     ]
    }
   ],
   "source": [
    "print(t)"
   ]
  },
  {
   "cell_type": "code",
   "execution_count": 3,
   "id": "a44ef33e",
   "metadata": {},
   "outputs": [
    {
     "data": {
      "text/plain": [
       "1"
      ]
     },
     "execution_count": 3,
     "metadata": {},
     "output_type": "execute_result"
    }
   ],
   "source": [
    "t[0]"
   ]
  },
  {
   "cell_type": "code",
   "execution_count": 4,
   "id": "5a3fde0a",
   "metadata": {},
   "outputs": [
    {
     "data": {
      "text/plain": [
       "(2, 3)"
      ]
     },
     "execution_count": 4,
     "metadata": {},
     "output_type": "execute_result"
    }
   ],
   "source": [
    "t[1:3]"
   ]
  },
  {
   "cell_type": "code",
   "execution_count": 5,
   "id": "9079c6ee",
   "metadata": {},
   "outputs": [
    {
     "data": {
      "text/plain": [
       "5"
      ]
     },
     "execution_count": 5,
     "metadata": {},
     "output_type": "execute_result"
    }
   ],
   "source": [
    "t[-1]"
   ]
  },
  {
   "cell_type": "code",
   "execution_count": 6,
   "id": "bcfea0e1",
   "metadata": {},
   "outputs": [
    {
     "data": {
      "text/plain": [
       "(1, 2, 3, 7, 9, 0)"
      ]
     },
     "execution_count": 6,
     "metadata": {},
     "output_type": "execute_result"
    }
   ],
   "source": [
    "t[:-1]"
   ]
  },
  {
   "cell_type": "code",
   "execution_count": 7,
   "id": "c2b276be",
   "metadata": {},
   "outputs": [
    {
     "data": {
      "text/plain": [
       "(2, 3, 7, 9, 0)"
      ]
     },
     "execution_count": 7,
     "metadata": {},
     "output_type": "execute_result"
    }
   ],
   "source": [
    "t[1:-1]"
   ]
  },
  {
   "cell_type": "code",
   "execution_count": null,
   "id": "3104d5bd",
   "metadata": {},
   "outputs": [],
   "source": []
  }
 ],
 "metadata": {
  "kernelspec": {
   "display_name": "Python 3 (ipykernel)",
   "language": "python",
   "name": "python3"
  },
  "language_info": {
   "codemirror_mode": {
    "name": "ipython",
    "version": 3
   },
   "file_extension": ".py",
   "mimetype": "text/x-python",
   "name": "python",
   "nbconvert_exporter": "python",
   "pygments_lexer": "ipython3",
   "version": "3.9.13"
  }
 },
 "nbformat": 4,
 "nbformat_minor": 5
}
