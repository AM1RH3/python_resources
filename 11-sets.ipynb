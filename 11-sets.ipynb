{
 "cells": [
  {
   "cell_type": "markdown",
   "id": "b8f91e74",
   "metadata": {},
   "source": [
    "# Creating a set"
   ]
  },
  {
   "cell_type": "code",
   "execution_count": 1,
   "id": "a69c9b48",
   "metadata": {},
   "outputs": [
    {
     "name": "stdout",
     "output_type": "stream",
     "text": [
      "{'banana', 'fig', 'lemon'}\n"
     ]
    }
   ],
   "source": [
    "fruit_set = {\"fig\", \"banana\", \"lemon\"}\n",
    "print(fruit_set)"
   ]
  },
  {
   "cell_type": "code",
   "execution_count": 2,
   "id": "a2048a5d",
   "metadata": {},
   "outputs": [
    {
     "data": {
      "text/plain": [
       "set"
      ]
     },
     "execution_count": 2,
     "metadata": {},
     "output_type": "execute_result"
    }
   ],
   "source": [
    "type(fruit_set)"
   ]
  },
  {
   "cell_type": "code",
   "execution_count": 3,
   "id": "ded32bbd",
   "metadata": {},
   "outputs": [
    {
     "data": {
      "text/plain": [
       "3"
      ]
     },
     "execution_count": 3,
     "metadata": {},
     "output_type": "execute_result"
    }
   ],
   "source": [
    "len(fruit_set)"
   ]
  },
  {
   "cell_type": "code",
   "execution_count": 4,
   "id": "e752177e",
   "metadata": {},
   "outputs": [
    {
     "name": "stdout",
     "output_type": "stream",
     "text": [
      "{'cherry', 'apple', 'banana'}\n",
      "{1, 2, 3}\n",
      "{False, True}\n"
     ]
    }
   ],
   "source": [
    "set1 = {\"banana\", \"cherry\", \"apple\"}\n",
    "set2 = {1 , 2, 3}\n",
    "set3 = {True, False, True}\n",
    "\n",
    "print(set1)\n",
    "print(set2)\n",
    "print(set3)"
   ]
  },
  {
   "cell_type": "code",
   "execution_count": 5,
   "id": "b7ab72ce",
   "metadata": {},
   "outputs": [
    {
     "name": "stdout",
     "output_type": "stream",
     "text": [
      "{True, 4, 'hi'}\n"
     ]
    }
   ],
   "source": [
    "newset = { \"hi\", True, 4}\n",
    "print(newset)"
   ]
  },
  {
   "cell_type": "code",
   "execution_count": 6,
   "id": "7dc4edfd",
   "metadata": {},
   "outputs": [
    {
     "name": "stdout",
     "output_type": "stream",
     "text": [
      "{'appale', 'banana', 'fig'}\n"
     ]
    }
   ],
   "source": [
    "#another way of creating a set\n",
    "fruit_set= set((\"banana\", \"appale\", \"fig\"))\n",
    "print(fruit_set)"
   ]
  },
  {
   "cell_type": "code",
   "execution_count": 7,
   "id": "7a1b3398",
   "metadata": {},
   "outputs": [
    {
     "name": "stdout",
     "output_type": "stream",
     "text": [
      "appale\n",
      "banana\n",
      "fig\n"
     ]
    }
   ],
   "source": [
    "#access items\n",
    "#you can not access by a key or index\n",
    "\n",
    "for item in fruit_set:\n",
    "    print(item)"
   ]
  },
  {
   "cell_type": "code",
   "execution_count": 9,
   "id": "c573f2a1",
   "metadata": {},
   "outputs": [
    {
     "name": "stdout",
     "output_type": "stream",
     "text": [
      "True\n"
     ]
    }
   ],
   "source": [
    "print(\"banana\" in fruit_set)"
   ]
  },
  {
   "cell_type": "code",
   "execution_count": 10,
   "id": "f5c35612",
   "metadata": {},
   "outputs": [
    {
     "data": {
      "text/plain": [
       "{'appale', 'banana', 'fig', 'orange'}"
      ]
     },
     "execution_count": 10,
     "metadata": {},
     "output_type": "execute_result"
    }
   ],
   "source": [
    "fruit_set.add(\"orange\")\n",
    "fruit_set"
   ]
  },
  {
   "cell_type": "code",
   "execution_count": 11,
   "id": "2fd5abbb",
   "metadata": {},
   "outputs": [
    {
     "name": "stdout",
     "output_type": "stream",
     "text": [
      "{'cherry', 'appale', 'orange', 'banana', 'fig', 'lemon'}\n"
     ]
    }
   ],
   "source": [
    "#add multiple objects\n",
    "fruit_set.update([\"lemon\", \"cherry\"])\n",
    "print(fruit_set)"
   ]
  },
  {
   "cell_type": "code",
   "execution_count": 12,
   "id": "587195bb",
   "metadata": {},
   "outputs": [
    {
     "name": "stdout",
     "output_type": "stream",
     "text": [
      "{'cherry', 'appale', 'banana', 'fig', 'lemon'}\n"
     ]
    }
   ],
   "source": [
    "#removing item\n",
    "fruit_set.remove(\"orange\")\n",
    "print(fruit_set)"
   ]
  },
  {
   "cell_type": "code",
   "execution_count": 15,
   "id": "8c74d960",
   "metadata": {},
   "outputs": [
    {
     "name": "stdout",
     "output_type": "stream",
     "text": [
      "{'appale', 'banana', 'fig', 'lemon'}\n"
     ]
    }
   ],
   "source": [
    "#another method for removing\n",
    "#if cherry does not exits, it does not show any error\n",
    "fruit_set.discard(\"cherry\")\n",
    "print(fruit_set)"
   ]
  },
  {
   "cell_type": "code",
   "execution_count": 16,
   "id": "c28f3353",
   "metadata": {},
   "outputs": [
    {
     "name": "stdout",
     "output_type": "stream",
     "text": [
      "appale\n",
      "{'banana', 'fig', 'lemon'}\n"
     ]
    }
   ],
   "source": [
    "#you dont know which item is going to be removed\n",
    "x = fruit_set.pop()\n",
    "print(x)\n",
    "print(fruit_set)"
   ]
  },
  {
   "cell_type": "code",
   "execution_count": 17,
   "id": "91f55b40",
   "metadata": {},
   "outputs": [
    {
     "name": "stdout",
     "output_type": "stream",
     "text": [
      "set()\n"
     ]
    }
   ],
   "source": [
    "#empty the set\n",
    "fruit_set.clear()\n",
    "print(fruit_set)"
   ]
  },
  {
   "cell_type": "code",
   "execution_count": 18,
   "id": "b57b8b6c",
   "metadata": {},
   "outputs": [
    {
     "ename": "NameError",
     "evalue": "name 'fruit_set' is not defined",
     "output_type": "error",
     "traceback": [
      "\u001b[0;31m---------------------------------------------------------------------------\u001b[0m",
      "\u001b[0;31mNameError\u001b[0m                                 Traceback (most recent call last)",
      "\u001b[0;32m/var/folders/6t/xy3pcrwn7r50cmfvm_58m4xm0000gn/T/ipykernel_3399/1598517439.py\u001b[0m in \u001b[0;36m<module>\u001b[0;34m\u001b[0m\n\u001b[1;32m      2\u001b[0m \u001b[0;34m\u001b[0m\u001b[0m\n\u001b[1;32m      3\u001b[0m \u001b[0;32mdel\u001b[0m \u001b[0mfruit_set\u001b[0m\u001b[0;34m\u001b[0m\u001b[0;34m\u001b[0m\u001b[0m\n\u001b[0;32m----> 4\u001b[0;31m \u001b[0mprint\u001b[0m\u001b[0;34m(\u001b[0m\u001b[0mfruit_set\u001b[0m\u001b[0;34m)\u001b[0m\u001b[0;34m\u001b[0m\u001b[0;34m\u001b[0m\u001b[0m\n\u001b[0m",
      "\u001b[0;31mNameError\u001b[0m: name 'fruit_set' is not defined"
     ]
    }
   ],
   "source": [
    "#delete the set completely\n",
    "\n",
    "del fruit_set\n",
    "print(fruit_set)"
   ]
  },
  {
   "cell_type": "code",
   "execution_count": null,
   "id": "cc6a6be0",
   "metadata": {},
   "outputs": [],
   "source": []
  }
 ],
 "metadata": {
  "kernelspec": {
   "display_name": "Python 3 (ipykernel)",
   "language": "python",
   "name": "python3"
  },
  "language_info": {
   "codemirror_mode": {
    "name": "ipython",
    "version": 3
   },
   "file_extension": ".py",
   "mimetype": "text/x-python",
   "name": "python",
   "nbconvert_exporter": "python",
   "pygments_lexer": "ipython3",
   "version": "3.9.13"
  }
 },
 "nbformat": 4,
 "nbformat_minor": 5
}
