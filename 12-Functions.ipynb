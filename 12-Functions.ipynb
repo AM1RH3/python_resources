{
 "cells": [
  {
   "cell_type": "markdown",
   "id": "6fea1987",
   "metadata": {},
   "source": [
    "# define new_function()"
   ]
  },
  {
   "cell_type": "code",
   "execution_count": 1,
   "id": "cee96295",
   "metadata": {},
   "outputs": [],
   "source": [
    "def new_function():\n",
    "    print(\"Hi, from the new_function\")"
   ]
  },
  {
   "cell_type": "code",
   "execution_count": 2,
   "id": "1b76d531",
   "metadata": {},
   "outputs": [
    {
     "name": "stdout",
     "output_type": "stream",
     "text": [
      "Hi, from the new_function\n",
      "Hi, from the new_function\n"
     ]
    }
   ],
   "source": [
    "#call new_function\n",
    "new_function()\n",
    "new_function()"
   ]
  },
  {
   "cell_type": "code",
   "execution_count": 8,
   "id": "2342691f",
   "metadata": {},
   "outputs": [
    {
     "name": "stdout",
     "output_type": "stream",
     "text": [
      "Hi Fred\n",
      "Hi Joe\n"
     ]
    }
   ],
   "source": [
    "def hi_function(name):\n",
    "    print(\"Hi \" + name)\n",
    "    \n",
    "#call hi_function and give values for name\n",
    "hi_function(\"Fred\")\n",
    "hi_function(\"Joe\")"
   ]
  },
  {
   "cell_type": "code",
   "execution_count": 7,
   "id": "41d4d533",
   "metadata": {},
   "outputs": [
    {
     "name": "stdout",
     "output_type": "stream",
     "text": [
      "Hi Marcelo\n"
     ]
    }
   ],
   "source": [
    "def hi_function(name = \"Marcelo\"):\n",
    "    print(\"Hi \" + name)\n",
    "    \n",
    "\n",
    "hi_function()"
   ]
  },
  {
   "cell_type": "markdown",
   "id": "1d9c5236",
   "metadata": {},
   "source": [
    "# insert a list as an argument for fruits"
   ]
  },
  {
   "cell_type": "code",
   "execution_count": 11,
   "id": "9748db84",
   "metadata": {},
   "outputs": [
    {
     "name": "stdout",
     "output_type": "stream",
     "text": [
      "Apple\n",
      "banana\n",
      "watermelon\n"
     ]
    }
   ],
   "source": [
    "def fruits(name):\n",
    "    for i in name:\n",
    "        print(i)\n",
    "\n",
    "fruit_names = [\"Apple\", \"banana\", \"watermelon\"]\n",
    "fruits(fruit_names)"
   ]
  },
  {
   "cell_type": "markdown",
   "id": "44f3f3d5",
   "metadata": {},
   "source": [
    "# use return and expression"
   ]
  },
  {
   "cell_type": "code",
   "execution_count": 13,
   "id": "5c69a92d",
   "metadata": {},
   "outputs": [
    {
     "name": "stdout",
     "output_type": "stream",
     "text": [
      "30\n",
      "45\n"
     ]
    }
   ],
   "source": [
    "def degrees(x):\n",
    "    return 15 * x\n",
    "\n",
    "print(degrees(2))\n",
    "print(degrees(3))"
   ]
  },
  {
   "cell_type": "markdown",
   "id": "8af00a78",
   "metadata": {},
   "source": [
    "# using multiple arguments"
   ]
  },
  {
   "cell_type": "code",
   "execution_count": 15,
   "id": "fc1b0afe",
   "metadata": {},
   "outputs": [
    {
     "name": "stdout",
     "output_type": "stream",
     "text": [
      "The first name is ronaldo\n",
      "The second name is john\n",
      "The third name is fred\n"
     ]
    }
   ],
   "source": [
    "def new_names(name1, name2, name3):\n",
    "    print(\"The first name is \" + name1)\n",
    "    print(\"The second name is \" + name2)\n",
    "    print(\"The third name is \" + name3)\n",
    "    \n",
    "\n",
    "new_names(name1 = \"ronaldo\", name2 = \"john\", name3 = \"fred\")\n",
    "\n",
    "    "
   ]
  },
  {
   "cell_type": "markdown",
   "id": "f2c5f7d7",
   "metadata": {},
   "source": [
    "# Arbitraty arguments"
   ]
  },
  {
   "cell_type": "code",
   "execution_count": 11,
   "id": "2dd0f308",
   "metadata": {},
   "outputs": [
    {
     "name": "stdout",
     "output_type": "stream",
     "text": [
      "The fruit is Apple\n"
     ]
    }
   ],
   "source": [
    "def fruits(*name):\n",
    "    print(\"The fruit is \" + name[0])\n",
    "    \n",
    "fruits(\"Apple\", \"Fig\", \"Cherry\")"
   ]
  },
  {
   "cell_type": "markdown",
   "id": "60c83565",
   "metadata": {},
   "source": [
    "# Recursion"
   ]
  },
  {
   "cell_type": "code",
   "execution_count": 21,
   "id": "aaf76aa0",
   "metadata": {},
   "outputs": [
    {
     "name": "stdout",
     "output_type": "stream",
     "text": [
      "\n",
      " \n",
      " recursion results\n",
      "1\n",
      "3\n",
      "6\n",
      "10\n",
      "15\n",
      "21\n"
     ]
    },
    {
     "data": {
      "text/plain": [
       "21"
      ]
     },
     "execution_count": 21,
     "metadata": {},
     "output_type": "execute_result"
    }
   ],
   "source": [
    "def numbers(n):\n",
    "    if(n>0):\n",
    "        result = n + numbers(n-1)\n",
    "        print(result)\n",
    "    else:\n",
    "        result = 0\n",
    "    return result\n",
    "\n",
    "print(\"\\n \\n recursion results\")\n",
    "numbers(6)"
   ]
  },
  {
   "cell_type": "markdown",
   "id": "0ba34a2b",
   "metadata": {},
   "source": [
    "# lambda anonymous"
   ]
  },
  {
   "cell_type": "code",
   "execution_count": 22,
   "id": "9929b999",
   "metadata": {},
   "outputs": [
    {
     "name": "stdout",
     "output_type": "stream",
     "text": [
      "15\n"
     ]
    }
   ],
   "source": [
    "x = lambda i : i + 10\n",
    "print(x(5))"
   ]
  },
  {
   "cell_type": "code",
   "execution_count": 24,
   "id": "9054b18f",
   "metadata": {},
   "outputs": [
    {
     "name": "stdout",
     "output_type": "stream",
     "text": [
      "35\n"
     ]
    }
   ],
   "source": [
    "calculate = lambda x,y : x * y\n",
    "print(calculate(5,7))"
   ]
  },
  {
   "cell_type": "code",
   "execution_count": 25,
   "id": "8772f861",
   "metadata": {},
   "outputs": [
    {
     "name": "stdout",
     "output_type": "stream",
     "text": [
      "10\n"
     ]
    }
   ],
   "source": [
    "math_op = lambda x,y, z : x * y + z\n",
    "print(math_op(2,3,4))"
   ]
  },
  {
   "cell_type": "code",
   "execution_count": 27,
   "id": "629378c7",
   "metadata": {},
   "outputs": [
    {
     "name": "stdout",
     "output_type": "stream",
     "text": [
      "20\n",
      "30\n"
     ]
    }
   ],
   "source": [
    "#lambda with user function\n",
    "\n",
    "def multiply(n):\n",
    "    return lambda x : x * n\n",
    "\n",
    "double = multiply(2)\n",
    "triple = multiply(3)\n",
    "\n",
    "print(double(10))\n",
    "print(triple(10))"
   ]
  },
  {
   "cell_type": "code",
   "execution_count": null,
   "id": "efb1b012",
   "metadata": {},
   "outputs": [],
   "source": [
    "def fib(n):\n",
    "    if n < 0:\n",
    "        print(\"input is not valid\")\n",
    "    elif n == 0:\n",
    "        return 0\n",
    "    elif n == 1 or n == 2 :\n",
    "        return 1\n",
    "    else:\n",
    "        return fib(n-2) + fib(n-1)"
   ]
  }
 ],
 "metadata": {
  "kernelspec": {
   "display_name": "Python 3 (ipykernel)",
   "language": "python",
   "name": "python3"
  },
  "language_info": {
   "codemirror_mode": {
    "name": "ipython",
    "version": 3
   },
   "file_extension": ".py",
   "mimetype": "text/x-python",
   "name": "python",
   "nbconvert_exporter": "python",
   "pygments_lexer": "ipython3",
   "version": "3.9.13"
  }
 },
 "nbformat": 4,
 "nbformat_minor": 5
}
