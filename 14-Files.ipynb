{
 "cells": [
  {
   "cell_type": "markdown",
   "id": "6fce5f2e",
   "metadata": {},
   "source": [
    "# Read Files"
   ]
  },
  {
   "cell_type": "code",
   "execution_count": 7,
   "id": "4e8fc1c4",
   "metadata": {},
   "outputs": [
    {
     "name": "stdout",
     "output_type": "stream",
     "text": [
      "Hi\n",
      "\n"
     ]
    }
   ],
   "source": [
    "f = open(\"Demo.txt\", \"r\")\n",
    "#print(f.read())\n",
    "#print(f.read(7))\n",
    "print(f.readline())\n",
    "#print(f.readline())\n",
    "#print(f.readline())\n",
    "#for x in f:\n",
    "#    print(x)"
   ]
  },
  {
   "cell_type": "markdown",
   "id": "3a574263",
   "metadata": {},
   "source": [
    "# Writing to files"
   ]
  },
  {
   "cell_type": "code",
   "execution_count": 13,
   "id": "ea9998f6",
   "metadata": {},
   "outputs": [],
   "source": [
    "f = open(\"main.txt\" , \"a\")\n",
    "f.write(\"Another file is created and we are wwriting to it!\")\n",
    "f.close()"
   ]
  },
  {
   "cell_type": "code",
   "execution_count": 15,
   "id": "477ee69b",
   "metadata": {},
   "outputs": [
    {
     "name": "stdout",
     "output_type": "stream",
     "text": [
      "Another file is created and we are wwriting to it!\n"
     ]
    }
   ],
   "source": [
    "f = open(\"main.txt\", \"r\")\n",
    "print(f.read())"
   ]
  },
  {
   "cell_type": "code",
   "execution_count": 16,
   "id": "5dc49655",
   "metadata": {},
   "outputs": [],
   "source": [
    "f = open(\"file.txt\", \"x\")"
   ]
  },
  {
   "cell_type": "code",
   "execution_count": 18,
   "id": "a792c2e8",
   "metadata": {},
   "outputs": [],
   "source": [
    "f = open(\"new.txt\", \"w\")"
   ]
  },
  {
   "cell_type": "code",
   "execution_count": null,
   "id": "5a90f391",
   "metadata": {},
   "outputs": [],
   "source": []
  }
 ],
 "metadata": {
  "kernelspec": {
   "display_name": "Python 3 (ipykernel)",
   "language": "python",
   "name": "python3"
  },
  "language_info": {
   "codemirror_mode": {
    "name": "ipython",
    "version": 3
   },
   "file_extension": ".py",
   "mimetype": "text/x-python",
   "name": "python",
   "nbconvert_exporter": "python",
   "pygments_lexer": "ipython3",
   "version": "3.9.13"
  }
 },
 "nbformat": 4,
 "nbformat_minor": 5
}
