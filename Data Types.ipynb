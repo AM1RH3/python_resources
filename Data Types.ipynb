{
 "cells": [
  {
   "cell_type": "markdown",
   "id": "d550c983",
   "metadata": {},
   "source": [
    "# Adding two numbers"
   ]
  },
  {
   "cell_type": "code",
   "execution_count": 1,
   "id": "3426aca8",
   "metadata": {},
   "outputs": [
    {
     "name": "stdout",
     "output_type": "stream",
     "text": [
      "the sum of 2.5 and 3.7 is 6.2\n"
     ]
    }
   ],
   "source": [
    "num1 = 2.5\n",
    "num2 = 3.7\n",
    "\n",
    "#add two numbers\n",
    "sum = num1 + num2\n",
    "\n",
    "#print the sum\n",
    "print('the sum of {0} and {1} is {2}'.format(num1, num2, sum))"
   ]
  },
  {
   "cell_type": "markdown",
   "id": "74737aef",
   "metadata": {},
   "source": [
    "# Python Identifiers"
   ]
  },
  {
   "cell_type": "code",
   "execution_count": 2,
   "id": "9f012103",
   "metadata": {},
   "outputs": [],
   "source": [
    "number = 5"
   ]
  },
  {
   "cell_type": "code",
   "execution_count": 3,
   "id": "4bfafb3e",
   "metadata": {},
   "outputs": [
    {
     "data": {
      "text/plain": [
       "5"
      ]
     },
     "execution_count": 3,
     "metadata": {},
     "output_type": "execute_result"
    }
   ],
   "source": [
    "number"
   ]
  },
  {
   "cell_type": "code",
   "execution_count": 4,
   "id": "e1d6db26",
   "metadata": {},
   "outputs": [
    {
     "ename": "SyntaxError",
     "evalue": "invalid syntax (2686325723.py, line 1)",
     "output_type": "error",
     "traceback": [
      "\u001b[0;36m  File \u001b[0;32m\"/var/folders/6t/xy3pcrwn7r50cmfvm_58m4xm0000gn/T/ipykernel_1317/2686325723.py\"\u001b[0;36m, line \u001b[0;32m1\u001b[0m\n\u001b[0;31m    name@ = 'Fred'\u001b[0m\n\u001b[0m          ^\u001b[0m\n\u001b[0;31mSyntaxError\u001b[0m\u001b[0;31m:\u001b[0m invalid syntax\n"
     ]
    }
   ],
   "source": [
    "name@ = 'Fred'"
   ]
  },
  {
   "cell_type": "code",
   "execution_count": 5,
   "id": "4a7369bc",
   "metadata": {},
   "outputs": [
    {
     "ename": "SyntaxError",
     "evalue": "invalid syntax (3575655595.py, line 1)",
     "output_type": "error",
     "traceback": [
      "\u001b[0;36m  File \u001b[0;32m\"/var/folders/6t/xy3pcrwn7r50cmfvm_58m4xm0000gn/T/ipykernel_1317/3575655595.py\"\u001b[0;36m, line \u001b[0;32m1\u001b[0m\n\u001b[0;31m    1variable = \"name\"\u001b[0m\n\u001b[0m     ^\u001b[0m\n\u001b[0;31mSyntaxError\u001b[0m\u001b[0;31m:\u001b[0m invalid syntax\n"
     ]
    }
   ],
   "source": [
    "1variable = \"name\""
   ]
  },
  {
   "cell_type": "code",
   "execution_count": 6,
   "id": "1e7cb433",
   "metadata": {},
   "outputs": [],
   "source": [
    "variable1 = \"name\""
   ]
  },
  {
   "cell_type": "code",
   "execution_count": 7,
   "id": "dd8d20b8",
   "metadata": {},
   "outputs": [
    {
     "data": {
      "text/plain": [
       "'name'"
      ]
     },
     "execution_count": 7,
     "metadata": {},
     "output_type": "execute_result"
    }
   ],
   "source": [
    "variable1"
   ]
  },
  {
   "cell_type": "markdown",
   "id": "3ffc7a7d",
   "metadata": {},
   "source": [
    "# Statements"
   ]
  },
  {
   "cell_type": "code",
   "execution_count": 7,
   "id": "db26d3da",
   "metadata": {},
   "outputs": [],
   "source": [
    "x = 10"
   ]
  },
  {
   "cell_type": "code",
   "execution_count": 8,
   "id": "a151a8df",
   "metadata": {},
   "outputs": [
    {
     "data": {
      "text/plain": [
       "10"
      ]
     },
     "execution_count": 8,
     "metadata": {},
     "output_type": "execute_result"
    }
   ],
   "source": [
    "x"
   ]
  },
  {
   "cell_type": "code",
   "execution_count": 9,
   "id": "c6841d39",
   "metadata": {},
   "outputs": [],
   "source": [
    "x = 1 + 2 + 3 + \\\n",
    "    4 + 5 + 6 + \\\n",
    "    7 + 8 + 9 "
   ]
  },
  {
   "cell_type": "code",
   "execution_count": 10,
   "id": "f8617bd1",
   "metadata": {},
   "outputs": [
    {
     "data": {
      "text/plain": [
       "45"
      ]
     },
     "execution_count": 10,
     "metadata": {},
     "output_type": "execute_result"
    }
   ],
   "source": [
    "x"
   ]
  },
  {
   "cell_type": "code",
   "execution_count": 12,
   "id": "e862beb3",
   "metadata": {},
   "outputs": [],
   "source": [
    "x = ( 5 + 10 + \n",
    "      15 + 20 +\n",
    "      25)"
   ]
  },
  {
   "cell_type": "code",
   "execution_count": 13,
   "id": "cdfa185c",
   "metadata": {},
   "outputs": [
    {
     "data": {
      "text/plain": [
       "75"
      ]
     },
     "execution_count": 13,
     "metadata": {},
     "output_type": "execute_result"
    }
   ],
   "source": [
    "x"
   ]
  },
  {
   "cell_type": "code",
   "execution_count": 15,
   "id": "d40d78a7",
   "metadata": {},
   "outputs": [],
   "source": [
    "fruits = [\"banana\",\n",
    "          \"apple\" ,\n",
    "          \"lemon\"]"
   ]
  },
  {
   "cell_type": "code",
   "execution_count": 16,
   "id": "f7eea8c4",
   "metadata": {},
   "outputs": [
    {
     "data": {
      "text/plain": [
       "['banana', 'apple', 'lemon']"
      ]
     },
     "execution_count": 16,
     "metadata": {},
     "output_type": "execute_result"
    }
   ],
   "source": [
    "fruits"
   ]
  },
  {
   "cell_type": "markdown",
   "id": "3066770c",
   "metadata": {},
   "source": [
    "# Indentation"
   ]
  },
  {
   "cell_type": "code",
   "execution_count": 18,
   "id": "63556c3a",
   "metadata": {},
   "outputs": [
    {
     "name": "stdout",
     "output_type": "stream",
     "text": [
      "1\n",
      "2\n",
      "3\n",
      "4\n",
      "5\n",
      "6\n"
     ]
    }
   ],
   "source": [
    "for i in range(1, 10):\n",
    "    print(i)\n",
    "    if i == 6:\n",
    "        break\n",
    "        "
   ]
  },
  {
   "cell_type": "markdown",
   "id": "8ceedd37",
   "metadata": {},
   "source": [
    "# Comments"
   ]
  },
  {
   "cell_type": "code",
   "execution_count": 19,
   "id": "11313c64",
   "metadata": {},
   "outputs": [
    {
     "name": "stdout",
     "output_type": "stream",
     "text": [
      "hi\n"
     ]
    }
   ],
   "source": [
    "#print out hi\n",
    "print(\"hi\")"
   ]
  },
  {
   "cell_type": "code",
   "execution_count": 20,
   "id": "3b6e7c77",
   "metadata": {},
   "outputs": [],
   "source": [
    "#This is the first line\n",
    "#and this is the second line\n",
    "#for multiple lines comment"
   ]
  },
  {
   "cell_type": "code",
   "execution_count": 1,
   "id": "6c966ca3",
   "metadata": {},
   "outputs": [],
   "source": [
    "#this code adds two numbers\n",
    "number1 = 30\n",
    "number2 = 20.2\n",
    "sum = number1 + number2"
   ]
  },
  {
   "cell_type": "code",
   "execution_count": 18,
   "id": "3b3925e3",
   "metadata": {},
   "outputs": [],
   "source": [
    "#This code Adds an integer to the sum \n",
    "sum = sum + 5"
   ]
  },
  {
   "cell_type": "code",
   "execution_count": 19,
   "id": "9da524d4",
   "metadata": {},
   "outputs": [
    {
     "data": {
      "text/plain": [
       "55.2"
      ]
     },
     "execution_count": 19,
     "metadata": {},
     "output_type": "execute_result"
    }
   ],
   "source": [
    "sum"
   ]
  },
  {
   "cell_type": "code",
   "execution_count": 20,
   "id": "2c5776ea",
   "metadata": {},
   "outputs": [
    {
     "data": {
      "text/plain": [
       "'gedtgeyhrfh'"
      ]
     },
     "execution_count": 20,
     "metadata": {},
     "output_type": "execute_result"
    }
   ],
   "source": [
    "\"\"\"gedtgeyhrfh\"\"\"\n"
   ]
  },
  {
   "cell_type": "code",
   "execution_count": null,
   "id": "5339d29f",
   "metadata": {},
   "outputs": [],
   "source": [
    "#  a = 1\n",
    "#  b = 2\n",
    "#  c = a + b"
   ]
  },
  {
   "cell_type": "code",
   "execution_count": null,
   "id": "9e6cd28c",
   "metadata": {},
   "outputs": [],
   "source": []
  },
  {
   "cell_type": "code",
   "execution_count": null,
   "id": "a52b11f9",
   "metadata": {},
   "outputs": [],
   "source": []
  },
  {
   "cell_type": "code",
   "execution_count": null,
   "id": "6556697b",
   "metadata": {},
   "outputs": [],
   "source": []
  },
  {
   "cell_type": "code",
   "execution_count": null,
   "id": "cee618ba",
   "metadata": {},
   "outputs": [],
   "source": []
  },
  {
   "cell_type": "code",
   "execution_count": null,
   "id": "0dad0daa",
   "metadata": {},
   "outputs": [],
   "source": []
  },
  {
   "cell_type": "code",
   "execution_count": null,
   "id": "c990d748",
   "metadata": {},
   "outputs": [],
   "source": []
  }
 ],
 "metadata": {
  "kernelspec": {
   "display_name": "Python 3 (ipykernel)",
   "language": "python",
   "name": "python3"
  },
  "language_info": {
   "codemirror_mode": {
    "name": "ipython",
    "version": 3
   },
   "file_extension": ".py",
   "mimetype": "text/x-python",
   "name": "python",
   "nbconvert_exporter": "python",
   "pygments_lexer": "ipython3",
   "version": "3.9.13"
  }
 },
 "nbformat": 4,
 "nbformat_minor": 5
}
