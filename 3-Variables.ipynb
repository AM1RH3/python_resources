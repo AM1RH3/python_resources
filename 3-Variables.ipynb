{
 "cells": [
  {
   "cell_type": "code",
   "execution_count": 1,
   "id": "b1fc658a",
   "metadata": {},
   "outputs": [],
   "source": [
    "number = 5"
   ]
  },
  {
   "cell_type": "code",
   "execution_count": 2,
   "id": "7a3d487a",
   "metadata": {},
   "outputs": [
    {
     "data": {
      "text/plain": [
       "5"
      ]
     },
     "execution_count": 2,
     "metadata": {},
     "output_type": "execute_result"
    }
   ],
   "source": [
    "number"
   ]
  },
  {
   "cell_type": "code",
   "execution_count": 3,
   "id": "2865e307",
   "metadata": {},
   "outputs": [],
   "source": [
    "number = 10\n",
    "number = 11\n",
    "number = 12"
   ]
  },
  {
   "cell_type": "code",
   "execution_count": 4,
   "id": "5a99ce2b",
   "metadata": {},
   "outputs": [
    {
     "data": {
      "text/plain": [
       "12"
      ]
     },
     "execution_count": 4,
     "metadata": {},
     "output_type": "execute_result"
    }
   ],
   "source": [
    "number"
   ]
  },
  {
   "cell_type": "markdown",
   "id": "a07e26ac",
   "metadata": {},
   "source": [
    "# Assign values to variables"
   ]
  },
  {
   "cell_type": "code",
   "execution_count": 7,
   "id": "0d4f298c",
   "metadata": {},
   "outputs": [
    {
     "name": "stdout",
     "output_type": "stream",
     "text": [
      "google.com\n"
     ]
    }
   ],
   "source": [
    "website = \"google.com\"\n",
    "print(website)"
   ]
  },
  {
   "cell_type": "code",
   "execution_count": 6,
   "id": "5e56dd95",
   "metadata": {},
   "outputs": [
    {
     "data": {
      "text/plain": [
       "'google.com'"
      ]
     },
     "execution_count": 6,
     "metadata": {},
     "output_type": "execute_result"
    }
   ],
   "source": [
    "website"
   ]
  },
  {
   "cell_type": "code",
   "execution_count": 8,
   "id": "465844fa",
   "metadata": {},
   "outputs": [],
   "source": [
    "website = \"apple.com\""
   ]
  },
  {
   "cell_type": "code",
   "execution_count": 9,
   "id": "530b1412",
   "metadata": {},
   "outputs": [
    {
     "data": {
      "text/plain": [
       "'apple.com'"
      ]
     },
     "execution_count": 9,
     "metadata": {},
     "output_type": "execute_result"
    }
   ],
   "source": [
    "website"
   ]
  },
  {
   "cell_type": "code",
   "execution_count": 11,
   "id": "2f1f71d3",
   "metadata": {},
   "outputs": [
    {
     "name": "stdout",
     "output_type": "stream",
     "text": [
      "3\n",
      "5\n",
      "10\n",
      "FRED\n"
     ]
    }
   ],
   "source": [
    "#Assign multiple values in the same line\n",
    "num1, num2, num3, name = 3,5,10,\"FRED\"\n",
    "print(num1)\n",
    "print(num2)\n",
    "print(num3)\n",
    "print(name)"
   ]
  },
  {
   "cell_type": "code",
   "execution_count": 12,
   "id": "0fa54795",
   "metadata": {},
   "outputs": [
    {
     "name": "stdout",
     "output_type": "stream",
     "text": [
      "equal\n",
      "equal\n",
      "equal\n"
     ]
    }
   ],
   "source": [
    "a = b = c = \"equal\"\n",
    "print(a)\n",
    "print(b)\n",
    "print(c)"
   ]
  },
  {
   "cell_type": "markdown",
   "id": "abeeb7f7",
   "metadata": {},
   "source": [
    "# Constants"
   ]
  },
  {
   "cell_type": "code",
   "execution_count": 13,
   "id": "f58937f1",
   "metadata": {},
   "outputs": [
    {
     "name": "stdout",
     "output_type": "stream",
     "text": [
      "3.14\n",
      "9.7\n"
     ]
    }
   ],
   "source": [
    "PI = 3.14\n",
    "GRAVITY = 9.7\n",
    "print(PI)\n",
    "print(GRAVITY)"
   ]
  },
  {
   "cell_type": "markdown",
   "id": "fda86f92",
   "metadata": {},
   "source": [
    "# Numeric Literals"
   ]
  },
  {
   "cell_type": "code",
   "execution_count": 19,
   "id": "8e632be6",
   "metadata": {},
   "outputs": [
    {
     "name": "stdout",
     "output_type": "stream",
     "text": [
      "10 50 200 300\n",
      "11.7 150.0\n"
     ]
    }
   ],
   "source": [
    "num1 = 0b1010 #binary\n",
    "num2 = 50  #decimal\n",
    "num3 = 0o310 #octal\n",
    "num4 = 0x12c #Hexa\n",
    "num5 = 11.7 #float literal\n",
    "num6 = 1.5e2\n",
    "num7 = 3.2j #complex\n",
    "print(num1 , num2, num3, num4)\n",
    "print(num5, num6)"
   ]
  },
  {
   "cell_type": "code",
   "execution_count": 21,
   "id": "34d37dfc",
   "metadata": {},
   "outputs": [
    {
     "name": "stdout",
     "output_type": "stream",
     "text": [
      "3.2j 3.2 0.0\n"
     ]
    }
   ],
   "source": [
    "print(num7, num7.imag, num7.real)"
   ]
  },
  {
   "cell_type": "markdown",
   "id": "6c6764a3",
   "metadata": {},
   "source": [
    "# String literals"
   ]
  },
  {
   "cell_type": "code",
   "execution_count": 23,
   "id": "2d16b66c",
   "metadata": {},
   "outputs": [
    {
     "name": "stdout",
     "output_type": "stream",
     "text": [
      "Python is Fun\n",
      "I\n",
      "This is \n",
      "multiple line\n",
      "Ünicöde\n",
      "raw \\n string!\n"
     ]
    }
   ],
   "source": [
    "msg = \"Python is Fun\"\n",
    "char = \"I\"\n",
    "multi_line = \"\"\"This is \n",
    "multiple line\"\"\"\n",
    "unicode = u\"\\u00dcnic\\u00f6de\" \n",
    "raw_string = r\"raw \\n string!\"\n",
    "\n",
    "print(msg)\n",
    "print(char)\n",
    "print(multi_line)\n",
    "print(unicode)\n",
    "print(raw_string)"
   ]
  },
  {
   "cell_type": "markdown",
   "id": "13e4c7f1",
   "metadata": {},
   "source": [
    "# Boolean literals"
   ]
  },
  {
   "cell_type": "code",
   "execution_count": 24,
   "id": "b6ec7a15",
   "metadata": {},
   "outputs": [],
   "source": [
    "a = (1 == True)\n",
    "b = (1 == False)\n",
    "c = True + 4\n",
    "d = False + 6"
   ]
  },
  {
   "cell_type": "code",
   "execution_count": 25,
   "id": "1c3bd9ff",
   "metadata": {},
   "outputs": [
    {
     "data": {
      "text/plain": [
       "True"
      ]
     },
     "execution_count": 25,
     "metadata": {},
     "output_type": "execute_result"
    }
   ],
   "source": [
    "a"
   ]
  },
  {
   "cell_type": "code",
   "execution_count": 26,
   "id": "4de5a28f",
   "metadata": {},
   "outputs": [
    {
     "data": {
      "text/plain": [
       "False"
      ]
     },
     "execution_count": 26,
     "metadata": {},
     "output_type": "execute_result"
    }
   ],
   "source": [
    "b"
   ]
  },
  {
   "cell_type": "code",
   "execution_count": 27,
   "id": "ef12bbe9",
   "metadata": {},
   "outputs": [
    {
     "data": {
      "text/plain": [
       "5"
      ]
     },
     "execution_count": 27,
     "metadata": {},
     "output_type": "execute_result"
    }
   ],
   "source": [
    "c"
   ]
  },
  {
   "cell_type": "code",
   "execution_count": 28,
   "id": "095588ab",
   "metadata": {},
   "outputs": [
    {
     "data": {
      "text/plain": [
       "6"
      ]
     },
     "execution_count": 28,
     "metadata": {},
     "output_type": "execute_result"
    }
   ],
   "source": [
    "d"
   ]
  },
  {
   "cell_type": "markdown",
   "id": "5e142e5f",
   "metadata": {},
   "source": [
    "# Special literals"
   ]
  },
  {
   "cell_type": "code",
   "execution_count": 30,
   "id": "14ea6541",
   "metadata": {},
   "outputs": [
    {
     "name": "stdout",
     "output_type": "stream",
     "text": [
      "Available\n",
      "None\n"
     ]
    }
   ],
   "source": [
    "drink = \"Available\"\n",
    "food = None\n",
    "\n",
    "def new_menu(a):\n",
    "    if a == drink:\n",
    "        print(drink)\n",
    "    else:\n",
    "        print(food)\n",
    "\n",
    "new_menu(drink)\n",
    "new_menu(food)"
   ]
  },
  {
   "cell_type": "markdown",
   "id": "c79f9b34",
   "metadata": {},
   "source": [
    "# Literal Collections"
   ]
  },
  {
   "cell_type": "code",
   "execution_count": 31,
   "id": "41582864",
   "metadata": {},
   "outputs": [],
   "source": [
    "fruits = {\"fig\", \"lemon\", \"banana\"} #list\n",
    "numbers = {1,2,3,4} #tuple\n",
    "words = {\"first word\" : \"Banana\" , \"Second word\" : \"Hi\"}  #dict\n",
    "chars = {'A', 'B' , 'C'} #set"
   ]
  },
  {
   "cell_type": "code",
   "execution_count": 33,
   "id": "88a0ab3f",
   "metadata": {},
   "outputs": [
    {
     "name": "stdout",
     "output_type": "stream",
     "text": [
      "{'banana', 'fig', 'lemon'}\n",
      "{1, 2, 3, 4}\n",
      "{'first word': 'Banana', 'Second word': 'Hi'}\n",
      "{'C', 'B', 'A'}\n"
     ]
    }
   ],
   "source": [
    "print(fruits)\n",
    "print(numbers)\n",
    "print(words)\n",
    "print(chars)"
   ]
  },
  {
   "cell_type": "code",
   "execution_count": null,
   "id": "3c0870b5",
   "metadata": {},
   "outputs": [],
   "source": []
  }
 ],
 "metadata": {
  "kernelspec": {
   "display_name": "Python 3 (ipykernel)",
   "language": "python",
   "name": "python3"
  },
  "language_info": {
   "codemirror_mode": {
    "name": "ipython",
    "version": 3
   },
   "file_extension": ".py",
   "mimetype": "text/x-python",
   "name": "python",
   "nbconvert_exporter": "python",
   "pygments_lexer": "ipython3",
   "version": "3.9.13"
  }
 },
 "nbformat": 4,
 "nbformat_minor": 5
}
