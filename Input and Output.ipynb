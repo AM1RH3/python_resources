{
 "cells": [
  {
   "cell_type": "code",
   "execution_count": 1,
   "id": "fd28fbf2",
   "metadata": {},
   "outputs": [
    {
     "name": "stdout",
     "output_type": "stream",
     "text": [
      "This string is output to the screen\n"
     ]
    }
   ],
   "source": [
    "#Using Print to print out String\n",
    "print(\"This string is output to the screen\")"
   ]
  },
  {
   "cell_type": "code",
   "execution_count": 3,
   "id": "f777c6c5",
   "metadata": {},
   "outputs": [
    {
     "name": "stdout",
     "output_type": "stream",
     "text": [
      "The Value of x is  10\n"
     ]
    }
   ],
   "source": [
    "#Adding string and variable to print()\n",
    "x = 10\n",
    "print(\"The Value of x is \", x)"
   ]
  },
  {
   "cell_type": "code",
   "execution_count": 5,
   "id": "0d6731d5",
   "metadata": {},
   "outputs": [
    {
     "name": "stdout",
     "output_type": "stream",
     "text": [
      "1 3 7 8\n",
      "1*3*7*8\n",
      "1*3*7*8&"
     ]
    }
   ],
   "source": [
    "print(1, 3, 7, 8)\n",
    "print(1, 3, 7, 8, sep=\"*\")\n",
    "print(1, 3, 7, 8, sep=\"*\", end=\"&\")"
   ]
  },
  {
   "cell_type": "markdown",
   "id": "8437231f",
   "metadata": {},
   "source": [
    "# Formatting The Output"
   ]
  },
  {
   "cell_type": "code",
   "execution_count": 6,
   "id": "6272a714",
   "metadata": {},
   "outputs": [
    {
     "name": "stdout",
     "output_type": "stream",
     "text": [
      "The value of x is 10 and the value of y is 20\n"
     ]
    }
   ],
   "source": [
    "x = 10\n",
    "y = 20\n",
    "print(\"The value of x is {} and the value of y is {}\".format(x,y))"
   ]
  },
  {
   "cell_type": "code",
   "execution_count": 8,
   "id": "c417b2bf",
   "metadata": {},
   "outputs": [
    {
     "name": "stdout",
     "output_type": "stream",
     "text": [
      "I like Tea and also Milk\n",
      "I like Milk and also Tea\n"
     ]
    }
   ],
   "source": [
    "print(\"I like {0} and also {1}\".format(\"Tea\", \"Milk\"))\n",
    "print(\"I like {1} and also {0}\".format(\"Tea\", \"Milk\"))"
   ]
  },
  {
   "cell_type": "code",
   "execution_count": 9,
   "id": "45030bf6",
   "metadata": {},
   "outputs": [
    {
     "name": "stdout",
     "output_type": "stream",
     "text": [
      "Hi Marcelo, welcome\n"
     ]
    }
   ],
   "source": [
    "#using keyword args to format\n",
    "print(\"Hi {name}, {greet}\".format(greet = \"welcome\", name = \"Marcelo\"))"
   ]
  },
  {
   "cell_type": "code",
   "execution_count": 11,
   "id": "6ab86126",
   "metadata": {},
   "outputs": [
    {
     "name": "stdout",
     "output_type": "stream",
     "text": [
      "Put your number: 10\n"
     ]
    }
   ],
   "source": [
    "number = input(\"Put your number: \")"
   ]
  },
  {
   "cell_type": "code",
   "execution_count": 12,
   "id": "a44aeac2",
   "metadata": {},
   "outputs": [
    {
     "data": {
      "text/plain": [
       "'10'"
      ]
     },
     "execution_count": 12,
     "metadata": {},
     "output_type": "execute_result"
    }
   ],
   "source": [
    "number"
   ]
  },
  {
   "cell_type": "code",
   "execution_count": 13,
   "id": "4e2fc82b",
   "metadata": {},
   "outputs": [
    {
     "data": {
      "text/plain": [
       "str"
      ]
     },
     "execution_count": 13,
     "metadata": {},
     "output_type": "execute_result"
    }
   ],
   "source": [
    "type(number)"
   ]
  },
  {
   "cell_type": "code",
   "execution_count": 14,
   "id": "9dd462a0",
   "metadata": {},
   "outputs": [
    {
     "name": "stdout",
     "output_type": "stream",
     "text": [
      "<class 'int'>\n"
     ]
    }
   ],
   "source": [
    "num = int(number)\n",
    "print(type(num))"
   ]
  },
  {
   "cell_type": "markdown",
   "id": "180663f6",
   "metadata": {},
   "source": [
    "# Importing from SL"
   ]
  },
  {
   "cell_type": "code",
   "execution_count": 16,
   "id": "ed30a0b2",
   "metadata": {},
   "outputs": [
    {
     "name": "stdout",
     "output_type": "stream",
     "text": [
      "3.141592653589793\n",
      "2.718281828459045\n"
     ]
    }
   ],
   "source": [
    "import math\n",
    "\n",
    "print(math.pi)\n",
    "print(math.e)"
   ]
  },
  {
   "cell_type": "code",
   "execution_count": 17,
   "id": "70ab254d",
   "metadata": {},
   "outputs": [
    {
     "name": "stdout",
     "output_type": "stream",
     "text": [
      "3.141592653589793\n",
      "2.718281828459045\n"
     ]
    }
   ],
   "source": [
    "from math import pi,e\n",
    "print(pi)\n",
    "print(e)"
   ]
  },
  {
   "cell_type": "code",
   "execution_count": null,
   "id": "3730cbce",
   "metadata": {},
   "outputs": [],
   "source": []
  },
  {
   "cell_type": "code",
   "execution_count": null,
   "id": "c6571e9f",
   "metadata": {},
   "outputs": [],
   "source": []
  }
 ],
 "metadata": {
  "kernelspec": {
   "display_name": "Python 3 (ipykernel)",
   "language": "python",
   "name": "python3"
  },
  "language_info": {
   "codemirror_mode": {
    "name": "ipython",
    "version": 3
   },
   "file_extension": ".py",
   "mimetype": "text/x-python",
   "name": "python",
   "nbconvert_exporter": "python",
   "pygments_lexer": "ipython3",
   "version": "3.9.13"
  }
 },
 "nbformat": 4,
 "nbformat_minor": 5
}
