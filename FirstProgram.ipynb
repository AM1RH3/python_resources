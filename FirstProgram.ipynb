{
 "cells": [
  {
   "cell_type": "code",
   "execution_count": 1,
   "id": "57b94d32",
   "metadata": {},
   "outputs": [
    {
     "name": "stdout",
     "output_type": "stream",
     "text": [
      "Python is fun\n"
     ]
    }
   ],
   "source": [
    "#First Python Program\n",
    "print(\"Python is fun\")"
   ]
  },
  {
   "cell_type": "code",
   "execution_count": 2,
   "id": "58759de7",
   "metadata": {},
   "outputs": [
    {
     "data": {
      "text/plain": [
       "20"
      ]
     },
     "execution_count": 2,
     "metadata": {},
     "output_type": "execute_result"
    }
   ],
   "source": [
    "10 + 10 "
   ]
  },
  {
   "cell_type": "markdown",
   "id": "a0ccd1b9",
   "metadata": {},
   "source": [
    "# Using Jupyter"
   ]
  },
  {
   "cell_type": "markdown",
   "id": "29b5620d",
   "metadata": {},
   "source": [
    "## Using Jupyter"
   ]
  },
  {
   "cell_type": "markdown",
   "id": "6e9ca922",
   "metadata": {},
   "source": [
    "### Using jupyter"
   ]
  },
  {
   "cell_type": "code",
   "execution_count": 1,
   "id": "c3f7380c",
   "metadata": {},
   "outputs": [
    {
     "data": {
      "text/plain": [
       "50"
      ]
     },
     "execution_count": 1,
     "metadata": {},
     "output_type": "execute_result"
    }
   ],
   "source": [
    "20 + 30"
   ]
  },
  {
   "cell_type": "code",
   "execution_count": null,
   "id": "6e9341a0",
   "metadata": {},
   "outputs": [],
   "source": []
  }
 ],
 "metadata": {
  "kernelspec": {
   "display_name": "Python 3 (ipykernel)",
   "language": "python",
   "name": "python3"
  },
  "language_info": {
   "codemirror_mode": {
    "name": "ipython",
    "version": 3
   },
   "file_extension": ".py",
   "mimetype": "text/x-python",
   "name": "python",
   "nbconvert_exporter": "python",
   "pygments_lexer": "ipython3",
   "version": "3.9.13"
  }
 },
 "nbformat": 4,
 "nbformat_minor": 5
}
