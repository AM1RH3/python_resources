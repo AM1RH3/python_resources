{
 "cells": [
  {
   "cell_type": "code",
   "execution_count": 3,
   "id": "faaf2fb5",
   "metadata": {},
   "outputs": [
    {
     "name": "stdout",
     "output_type": "stream",
     "text": [
      "10\n"
     ]
    }
   ],
   "source": [
    "class NewClass:\n",
    "    num = 10\n",
    "    pi = 3.14\n",
    "    \n",
    "#print(NewClass)\n",
    "\n",
    "p1 = NewClass()\n",
    "print(p1.num)"
   ]
  },
  {
   "cell_type": "code",
   "execution_count": 7,
   "id": "6d633c28",
   "metadata": {},
   "outputs": [
    {
     "name": "stdout",
     "output_type": "stream",
     "text": [
      "Dony\n",
      "40\n",
      "Hi, my name is Dony\n"
     ]
    }
   ],
   "source": [
    "#using init\n",
    "class Person:\n",
    "    def __init__(self, name, age):\n",
    "        self.name = name\n",
    "        self.age = age\n",
    "    def hi(self):\n",
    "        print(\"Hi, my name is \" + self.name)\n",
    "        \n",
    "ob1 = Person(\"Dony\", 40)\n",
    "print(ob1.name)\n",
    "print(ob1.age)\n",
    "ob1.hi()"
   ]
  },
  {
   "cell_type": "code",
   "execution_count": 8,
   "id": "e23434fb",
   "metadata": {},
   "outputs": [
    {
     "name": "stdout",
     "output_type": "stream",
     "text": [
      "50\n"
     ]
    }
   ],
   "source": [
    "#modify ob1\n",
    "ob1.age = 50\n",
    "print(ob1.age)"
   ]
  },
  {
   "cell_type": "code",
   "execution_count": null,
   "id": "ddb89731",
   "metadata": {},
   "outputs": [],
   "source": []
  }
 ],
 "metadata": {
  "kernelspec": {
   "display_name": "Python 3 (ipykernel)",
   "language": "python",
   "name": "python3"
  },
  "language_info": {
   "codemirror_mode": {
    "name": "ipython",
    "version": 3
   },
   "file_extension": ".py",
   "mimetype": "text/x-python",
   "name": "python",
   "nbconvert_exporter": "python",
   "pygments_lexer": "ipython3",
   "version": "3.9.13"
  }
 },
 "nbformat": 4,
 "nbformat_minor": 5
}
